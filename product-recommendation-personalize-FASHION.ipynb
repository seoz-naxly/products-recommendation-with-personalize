{
 "cells": [
  {
   "cell_type": "markdown",
   "metadata": {},
   "source": [
    "# Building Product Recommendation Engine with Amazon Personalize"
   ]
  },
  {
   "cell_type": "markdown",
   "metadata": {},
   "source": [
    "In this lab, we would like to use Amazon.com’s customer rating data to build product recommendation plugin for our website. We will use Amazon Personalize to train the recommender model and to host the recommendation inference. In addition, we will test out the inference and display the items that user rated and items that are recommended for that user."
   ]
  },
  {
   "cell_type": "markdown",
   "metadata": {},
   "source": [
    "## Download and prepare sample dataset"
   ]
  },
  {
   "cell_type": "code",
   "execution_count": 1,
   "metadata": {},
   "outputs": [
    {
     "name": "stdout",
     "output_type": "stream",
     "text": [
      "  % Total    % Received % Xferd  Average Speed   Time    Time     Time  Current\n",
      "                                 Dload  Upload   Total   Spent    Left  Speed\n",
      "100 40.7M  100 40.7M    0     0  6600k      0  0:00:06  0:00:06 --:--:-- 8744k\n",
      "  % Total    % Received % Xferd  Average Speed   Time    Time     Time  Current\n",
      "                                 Dload  Upload   Total   Spent    Left  Speed\n",
      "100 88.8M  100 88.8M    0     0  7752k      0  0:00:11  0:00:11 --:--:-- 8739k      0  0:00:24  0:00:02  0:00:22 3720k\n"
     ]
    }
   ],
   "source": [
    "!curl -o ./metadata.json.gz http://deepyeti.ucsd.edu/jianmo/amazon/metaFiles/meta_AMAZON_FASHION.json.gz\n",
    "!curl -o ./ratings.json.gz http://deepyeti.ucsd.edu/jianmo/amazon/categoryFiles/AMAZON_FASHION.json.gz"
   ]
  },
  {
   "cell_type": "markdown",
   "metadata": {},
   "source": [
    "Data by:    \n",
    "Justifying recommendations using distantly-labeled reviews and fined-grained aspects. Jianmo Ni, Jiacheng Li, Julian McAuley. Empirical Methods in Natural Language Processing (EMNLP), 2019."
   ]
  },
  {
   "cell_type": "code",
   "execution_count": 2,
   "metadata": {},
   "outputs": [],
   "source": [
    "!gunzip -f ratings.json.gz\n",
    "!gunzip -f metadata.json.gz"
   ]
  },
  {
   "cell_type": "markdown",
   "metadata": {},
   "source": [
    "**Loading ratings into panda data frame**"
   ]
  },
  {
   "cell_type": "code",
   "execution_count": 3,
   "metadata": {},
   "outputs": [],
   "source": [
    "import pandas as pd \n",
    "ratings_df = pd.read_json(\"./ratings.json\", lines=True)"
   ]
  },
  {
   "cell_type": "code",
   "execution_count": 4,
   "metadata": {},
   "outputs": [
    {
     "data": {
      "text/html": [
       "<div>\n",
       "<style scoped>\n",
       "    .dataframe tbody tr th:only-of-type {\n",
       "        vertical-align: middle;\n",
       "    }\n",
       "\n",
       "    .dataframe tbody tr th {\n",
       "        vertical-align: top;\n",
       "    }\n",
       "\n",
       "    .dataframe thead th {\n",
       "        text-align: right;\n",
       "    }\n",
       "</style>\n",
       "<table border=\"1\" class=\"dataframe\">\n",
       "  <thead>\n",
       "    <tr style=\"text-align: right;\">\n",
       "      <th></th>\n",
       "      <th>overall</th>\n",
       "      <th>verified</th>\n",
       "      <th>reviewTime</th>\n",
       "      <th>reviewerID</th>\n",
       "      <th>asin</th>\n",
       "      <th>reviewerName</th>\n",
       "      <th>reviewText</th>\n",
       "      <th>summary</th>\n",
       "      <th>unixReviewTime</th>\n",
       "      <th>vote</th>\n",
       "      <th>style</th>\n",
       "      <th>image</th>\n",
       "    </tr>\n",
       "  </thead>\n",
       "  <tbody>\n",
       "    <tr>\n",
       "      <th>0</th>\n",
       "      <td>5</td>\n",
       "      <td>True</td>\n",
       "      <td>10 20, 2014</td>\n",
       "      <td>A1D4G1SNUZWQOT</td>\n",
       "      <td>7106116521</td>\n",
       "      <td>Tracy</td>\n",
       "      <td>Exactly what I needed.</td>\n",
       "      <td>perfect replacements!!</td>\n",
       "      <td>1413763200</td>\n",
       "      <td>NaN</td>\n",
       "      <td>NaN</td>\n",
       "      <td>NaN</td>\n",
       "    </tr>\n",
       "    <tr>\n",
       "      <th>1</th>\n",
       "      <td>2</td>\n",
       "      <td>True</td>\n",
       "      <td>09 28, 2014</td>\n",
       "      <td>A3DDWDH9PX2YX2</td>\n",
       "      <td>7106116521</td>\n",
       "      <td>Sonja Lau</td>\n",
       "      <td>I agree with the other review, the opening is ...</td>\n",
       "      <td>I agree with the other review, the opening is ...</td>\n",
       "      <td>1411862400</td>\n",
       "      <td>3.0</td>\n",
       "      <td>NaN</td>\n",
       "      <td>NaN</td>\n",
       "    </tr>\n",
       "    <tr>\n",
       "      <th>2</th>\n",
       "      <td>4</td>\n",
       "      <td>False</td>\n",
       "      <td>08 25, 2014</td>\n",
       "      <td>A2MWC41EW7XL15</td>\n",
       "      <td>7106116521</td>\n",
       "      <td>Kathleen</td>\n",
       "      <td>Love these... I am going to order another pack...</td>\n",
       "      <td>My New 'Friends' !!</td>\n",
       "      <td>1408924800</td>\n",
       "      <td>NaN</td>\n",
       "      <td>NaN</td>\n",
       "      <td>NaN</td>\n",
       "    </tr>\n",
       "    <tr>\n",
       "      <th>3</th>\n",
       "      <td>2</td>\n",
       "      <td>True</td>\n",
       "      <td>08 24, 2014</td>\n",
       "      <td>A2UH2QQ275NV45</td>\n",
       "      <td>7106116521</td>\n",
       "      <td>Jodi Stoner</td>\n",
       "      <td>too tiny an opening</td>\n",
       "      <td>Two Stars</td>\n",
       "      <td>1408838400</td>\n",
       "      <td>NaN</td>\n",
       "      <td>NaN</td>\n",
       "      <td>NaN</td>\n",
       "    </tr>\n",
       "    <tr>\n",
       "      <th>4</th>\n",
       "      <td>3</td>\n",
       "      <td>False</td>\n",
       "      <td>07 27, 2014</td>\n",
       "      <td>A89F3LQADZBS5</td>\n",
       "      <td>7106116521</td>\n",
       "      <td>Alexander D.</td>\n",
       "      <td>Okay</td>\n",
       "      <td>Three Stars</td>\n",
       "      <td>1406419200</td>\n",
       "      <td>NaN</td>\n",
       "      <td>NaN</td>\n",
       "      <td>NaN</td>\n",
       "    </tr>\n",
       "  </tbody>\n",
       "</table>\n",
       "</div>"
      ],
      "text/plain": [
       "   overall  verified   reviewTime      reviewerID        asin  reviewerName  \\\n",
       "0        5      True  10 20, 2014  A1D4G1SNUZWQOT  7106116521         Tracy   \n",
       "1        2      True  09 28, 2014  A3DDWDH9PX2YX2  7106116521     Sonja Lau   \n",
       "2        4     False  08 25, 2014  A2MWC41EW7XL15  7106116521      Kathleen   \n",
       "3        2      True  08 24, 2014  A2UH2QQ275NV45  7106116521   Jodi Stoner   \n",
       "4        3     False  07 27, 2014   A89F3LQADZBS5  7106116521  Alexander D.   \n",
       "\n",
       "                                          reviewText  \\\n",
       "0                             Exactly what I needed.   \n",
       "1  I agree with the other review, the opening is ...   \n",
       "2  Love these... I am going to order another pack...   \n",
       "3                                too tiny an opening   \n",
       "4                                               Okay   \n",
       "\n",
       "                                             summary  unixReviewTime  vote  \\\n",
       "0                             perfect replacements!!      1413763200   NaN   \n",
       "1  I agree with the other review, the opening is ...      1411862400   3.0   \n",
       "2                                My New 'Friends' !!      1408924800   NaN   \n",
       "3                                          Two Stars      1408838400   NaN   \n",
       "4                                        Three Stars      1406419200   NaN   \n",
       "\n",
       "  style image  \n",
       "0   NaN   NaN  \n",
       "1   NaN   NaN  \n",
       "2   NaN   NaN  \n",
       "3   NaN   NaN  \n",
       "4   NaN   NaN  "
      ]
     },
     "execution_count": 4,
     "metadata": {},
     "output_type": "execute_result"
    }
   ],
   "source": [
    "ratings_df.head()"
   ]
  },
  {
   "cell_type": "markdown",
   "metadata": {},
   "source": [
    "**Include only important columns**"
   ]
  },
  {
   "cell_type": "code",
   "execution_count": 5,
   "metadata": {},
   "outputs": [],
   "source": [
    "ratings_df = ratings_df[[\"reviewerID\",\"asin\",\"overall\",\"unixReviewTime\"]]"
   ]
  },
  {
   "cell_type": "code",
   "execution_count": 6,
   "metadata": {},
   "outputs": [
    {
     "data": {
      "text/html": [
       "<div>\n",
       "<style scoped>\n",
       "    .dataframe tbody tr th:only-of-type {\n",
       "        vertical-align: middle;\n",
       "    }\n",
       "\n",
       "    .dataframe tbody tr th {\n",
       "        vertical-align: top;\n",
       "    }\n",
       "\n",
       "    .dataframe thead th {\n",
       "        text-align: right;\n",
       "    }\n",
       "</style>\n",
       "<table border=\"1\" class=\"dataframe\">\n",
       "  <thead>\n",
       "    <tr style=\"text-align: right;\">\n",
       "      <th></th>\n",
       "      <th>reviewerID</th>\n",
       "      <th>asin</th>\n",
       "      <th>overall</th>\n",
       "      <th>unixReviewTime</th>\n",
       "    </tr>\n",
       "  </thead>\n",
       "  <tbody>\n",
       "    <tr>\n",
       "      <th>0</th>\n",
       "      <td>A1D4G1SNUZWQOT</td>\n",
       "      <td>7106116521</td>\n",
       "      <td>5</td>\n",
       "      <td>1413763200</td>\n",
       "    </tr>\n",
       "    <tr>\n",
       "      <th>1</th>\n",
       "      <td>A3DDWDH9PX2YX2</td>\n",
       "      <td>7106116521</td>\n",
       "      <td>2</td>\n",
       "      <td>1411862400</td>\n",
       "    </tr>\n",
       "    <tr>\n",
       "      <th>2</th>\n",
       "      <td>A2MWC41EW7XL15</td>\n",
       "      <td>7106116521</td>\n",
       "      <td>4</td>\n",
       "      <td>1408924800</td>\n",
       "    </tr>\n",
       "    <tr>\n",
       "      <th>3</th>\n",
       "      <td>A2UH2QQ275NV45</td>\n",
       "      <td>7106116521</td>\n",
       "      <td>2</td>\n",
       "      <td>1408838400</td>\n",
       "    </tr>\n",
       "    <tr>\n",
       "      <th>4</th>\n",
       "      <td>A89F3LQADZBS5</td>\n",
       "      <td>7106116521</td>\n",
       "      <td>3</td>\n",
       "      <td>1406419200</td>\n",
       "    </tr>\n",
       "  </tbody>\n",
       "</table>\n",
       "</div>"
      ],
      "text/plain": [
       "       reviewerID        asin  overall  unixReviewTime\n",
       "0  A1D4G1SNUZWQOT  7106116521        5      1413763200\n",
       "1  A3DDWDH9PX2YX2  7106116521        2      1411862400\n",
       "2  A2MWC41EW7XL15  7106116521        4      1408924800\n",
       "3  A2UH2QQ275NV45  7106116521        2      1408838400\n",
       "4   A89F3LQADZBS5  7106116521        3      1406419200"
      ]
     },
     "execution_count": 6,
     "metadata": {},
     "output_type": "execute_result"
    }
   ],
   "source": [
    "ratings_df.head()"
   ]
  },
  {
   "cell_type": "markdown",
   "metadata": {},
   "source": [
    "**This is how the ratings file look like (first 5 lines)**"
   ]
  },
  {
   "cell_type": "code",
   "execution_count": 7,
   "metadata": {},
   "outputs": [],
   "source": [
    "import boto3\n",
    "\n",
    "personalize = boto3.client('personalize')\n",
    "personalize_runtime = boto3.client('personalize-runtime')"
   ]
  },
  {
   "cell_type": "code",
   "execution_count": 8,
   "metadata": {},
   "outputs": [],
   "source": [
    "ratings_df = ratings_df.rename(columns={'reviewerID':'USER_ID', 'asin':'ITEM_ID', 'unixReviewTime':'TIMESTAMP', 'overall':'EVENT_VALUE'})"
   ]
  },
  {
   "cell_type": "code",
   "execution_count": 9,
   "metadata": {},
   "outputs": [],
   "source": [
    "ratings_df['EVENT_TYPE'] = \"reviewed\"\n",
    "ratings_df['EVENT_VALUE'] = ratings_df['EVENT_VALUE'].astype(float)"
   ]
  },
  {
   "cell_type": "code",
   "execution_count": 10,
   "metadata": {},
   "outputs": [
    {
     "data": {
      "text/html": [
       "<div>\n",
       "<style scoped>\n",
       "    .dataframe tbody tr th:only-of-type {\n",
       "        vertical-align: middle;\n",
       "    }\n",
       "\n",
       "    .dataframe tbody tr th {\n",
       "        vertical-align: top;\n",
       "    }\n",
       "\n",
       "    .dataframe thead th {\n",
       "        text-align: right;\n",
       "    }\n",
       "</style>\n",
       "<table border=\"1\" class=\"dataframe\">\n",
       "  <thead>\n",
       "    <tr style=\"text-align: right;\">\n",
       "      <th></th>\n",
       "      <th>USER_ID</th>\n",
       "      <th>ITEM_ID</th>\n",
       "      <th>EVENT_VALUE</th>\n",
       "      <th>TIMESTAMP</th>\n",
       "      <th>EVENT_TYPE</th>\n",
       "    </tr>\n",
       "  </thead>\n",
       "  <tbody>\n",
       "    <tr>\n",
       "      <th>0</th>\n",
       "      <td>A1D4G1SNUZWQOT</td>\n",
       "      <td>7106116521</td>\n",
       "      <td>5.0</td>\n",
       "      <td>1413763200</td>\n",
       "      <td>reviewed</td>\n",
       "    </tr>\n",
       "    <tr>\n",
       "      <th>1</th>\n",
       "      <td>A3DDWDH9PX2YX2</td>\n",
       "      <td>7106116521</td>\n",
       "      <td>2.0</td>\n",
       "      <td>1411862400</td>\n",
       "      <td>reviewed</td>\n",
       "    </tr>\n",
       "    <tr>\n",
       "      <th>2</th>\n",
       "      <td>A2MWC41EW7XL15</td>\n",
       "      <td>7106116521</td>\n",
       "      <td>4.0</td>\n",
       "      <td>1408924800</td>\n",
       "      <td>reviewed</td>\n",
       "    </tr>\n",
       "    <tr>\n",
       "      <th>3</th>\n",
       "      <td>A2UH2QQ275NV45</td>\n",
       "      <td>7106116521</td>\n",
       "      <td>2.0</td>\n",
       "      <td>1408838400</td>\n",
       "      <td>reviewed</td>\n",
       "    </tr>\n",
       "    <tr>\n",
       "      <th>4</th>\n",
       "      <td>A89F3LQADZBS5</td>\n",
       "      <td>7106116521</td>\n",
       "      <td>3.0</td>\n",
       "      <td>1406419200</td>\n",
       "      <td>reviewed</td>\n",
       "    </tr>\n",
       "  </tbody>\n",
       "</table>\n",
       "</div>"
      ],
      "text/plain": [
       "          USER_ID     ITEM_ID  EVENT_VALUE   TIMESTAMP EVENT_TYPE\n",
       "0  A1D4G1SNUZWQOT  7106116521          5.0  1413763200   reviewed\n",
       "1  A3DDWDH9PX2YX2  7106116521          2.0  1411862400   reviewed\n",
       "2  A2MWC41EW7XL15  7106116521          4.0  1408924800   reviewed\n",
       "3  A2UH2QQ275NV45  7106116521          2.0  1408838400   reviewed\n",
       "4   A89F3LQADZBS5  7106116521          3.0  1406419200   reviewed"
      ]
     },
     "execution_count": 10,
     "metadata": {},
     "output_type": "execute_result"
    }
   ],
   "source": [
    "ratings_df.head()"
   ]
  },
  {
   "cell_type": "markdown",
   "metadata": {},
   "source": [
    "## Specify a bucket and data output location"
   ]
  },
  {
   "cell_type": "code",
   "execution_count": 11,
   "metadata": {},
   "outputs": [],
   "source": [
    "import sagemaker\n",
    "sess = sagemaker.Session()\n",
    "bucket = sess.default_bucket()\n",
    "prefix = 'recommendation-engine-with-personalize-fashion'\n",
    "filename = \"clean_product_ratings.csv\""
   ]
  },
  {
   "cell_type": "markdown",
   "metadata": {},
   "source": [
    "**Filter only users' ratings that are > 3, and reformat ratings file for Amazon Personalize input**"
   ]
  },
  {
   "cell_type": "code",
   "execution_count": 12,
   "metadata": {},
   "outputs": [],
   "source": [
    "ratings_df.to_csv(filename, index=False)\n",
    "\n",
    "boto3.Session().resource('s3').Bucket(bucket).Object(\"{}/{}\".format(prefix,filename)).upload_file(filename)\n",
    "\n"
   ]
  },
  {
   "cell_type": "markdown",
   "metadata": {},
   "source": [
    "## Ingest data to Amazon Personalize"
   ]
  },
  {
   "cell_type": "markdown",
   "metadata": {},
   "source": [
    "**Specify naming and threshold**"
   ]
  },
  {
   "cell_type": "code",
   "execution_count": 13,
   "metadata": {},
   "outputs": [],
   "source": [
    "base_name = \"fashion\"\n",
    "iteration = \"1\"\n",
    "review_star_threshold = 4.0"
   ]
  },
  {
   "cell_type": "markdown",
   "metadata": {},
   "source": [
    "**Create user-interactions schema**"
   ]
  },
  {
   "cell_type": "code",
   "execution_count": 14,
   "metadata": {},
   "outputs": [
    {
     "name": "stdout",
     "output_type": "stream",
     "text": [
      "{\n",
      "  \"schemaArn\": \"arn:aws:personalize:ap-southeast-1:344028372807:schema/fashion-1-interaction-schema\",\n",
      "  \"ResponseMetadata\": {\n",
      "    \"RequestId\": \"f1149e81-87a2-464f-a8c1-8c7299269199\",\n",
      "    \"HTTPStatusCode\": 200,\n",
      "    \"HTTPHeaders\": {\n",
      "      \"content-type\": \"application/x-amz-json-1.1\",\n",
      "      \"date\": \"Wed, 28 Oct 2020 07:41:10 GMT\",\n",
      "      \"x-amzn-requestid\": \"f1149e81-87a2-464f-a8c1-8c7299269199\",\n",
      "      \"content-length\": \"99\",\n",
      "      \"connection\": \"keep-alive\"\n",
      "    },\n",
      "    \"RetryAttempts\": 0\n",
      "  }\n",
      "}\n"
     ]
    }
   ],
   "source": [
    "import json\n",
    "schema = {\n",
    "    \"type\": \"record\",\n",
    "    \"name\": \"Interactions\",\n",
    "    \"namespace\": \"com.amazonaws.personalize.schema\",\n",
    "    \"fields\": [\n",
    "        {\n",
    "            \"name\": \"USER_ID\",\n",
    "            \"type\": \"string\"\n",
    "        },\n",
    "        {\n",
    "            \"name\": \"ITEM_ID\",\n",
    "            \"type\": \"string\"\n",
    "        },\n",
    "        {\n",
    "            \"name\": \"TIMESTAMP\",\n",
    "            \"type\": \"long\"\n",
    "        },\n",
    "        {\n",
    "            \"name\": \"EVENT_TYPE\",\n",
    "            \"type\": \"string\"\n",
    "        },\n",
    "        {\n",
    "            \"name\": \"EVENT_VALUE\",\n",
    "            \"type\": \"float\"\n",
    "        },\n",
    "    ],\n",
    "    \"version\": \"1.0\"\n",
    "}\n",
    "\n",
    "create_schema_response = personalize.create_schema(\n",
    "    name = \"{}-{}-interaction-schema\".format(base_name, iteration),\n",
    "    schema = json.dumps(schema)\n",
    ")\n",
    "\n",
    "schema_arn = create_schema_response['schemaArn']\n",
    "print(json.dumps(create_schema_response, indent=2))\n"
   ]
  },
  {
   "cell_type": "markdown",
   "metadata": {},
   "source": [
    "**Create Dataset Group**"
   ]
  },
  {
   "cell_type": "code",
   "execution_count": 15,
   "metadata": {},
   "outputs": [
    {
     "name": "stdout",
     "output_type": "stream",
     "text": [
      "{\n",
      "  \"datasetGroupArn\": \"arn:aws:personalize:ap-southeast-1:344028372807:dataset-group/fashion-1-dataset-group\",\n",
      "  \"ResponseMetadata\": {\n",
      "    \"RequestId\": \"0cfc998b-2c3f-4345-ae17-4f2ceafac6cc\",\n",
      "    \"HTTPStatusCode\": 200,\n",
      "    \"HTTPHeaders\": {\n",
      "      \"content-type\": \"application/x-amz-json-1.1\",\n",
      "      \"date\": \"Wed, 28 Oct 2020 07:41:10 GMT\",\n",
      "      \"x-amzn-requestid\": \"0cfc998b-2c3f-4345-ae17-4f2ceafac6cc\",\n",
      "      \"content-length\": \"107\",\n",
      "      \"connection\": \"keep-alive\"\n",
      "    },\n",
      "    \"RetryAttempts\": 0\n",
      "  }\n",
      "}\n"
     ]
    }
   ],
   "source": [
    "create_dataset_group_response = personalize.create_dataset_group(\n",
    "    name = \"{}-{}-dataset-group\".format(base_name, iteration)\n",
    ")\n",
    "\n",
    "dataset_group_arn = create_dataset_group_response['datasetGroupArn']\n",
    "print(json.dumps(create_dataset_group_response, indent=2))"
   ]
  },
  {
   "cell_type": "code",
   "execution_count": 16,
   "metadata": {},
   "outputs": [
    {
     "name": "stdout",
     "output_type": "stream",
     "text": [
      "DatasetGroup: CREATE PENDING\n",
      "DatasetGroup: ACTIVE\n"
     ]
    }
   ],
   "source": [
    "import time\n",
    "max_time = time.time() + 3*60*60 # 3 hours\n",
    "while time.time() < max_time:\n",
    "    describe_dataset_group_response = personalize.describe_dataset_group(\n",
    "        datasetGroupArn = dataset_group_arn\n",
    "    )\n",
    "    status = describe_dataset_group_response[\"datasetGroup\"][\"status\"]\n",
    "    print(\"DatasetGroup: {}\".format(status))\n",
    "    \n",
    "    if status == \"ACTIVE\" or status == \"CREATE FAILED\":\n",
    "        break\n",
    "        \n",
    "    time.sleep(60)"
   ]
  },
  {
   "cell_type": "markdown",
   "metadata": {},
   "source": [
    "**Create dataset**"
   ]
  },
  {
   "cell_type": "code",
   "execution_count": 17,
   "metadata": {},
   "outputs": [
    {
     "name": "stdout",
     "output_type": "stream",
     "text": [
      "{\n",
      "  \"datasetArn\": \"arn:aws:personalize:ap-southeast-1:344028372807:dataset/fashion-1-dataset-group/INTERACTIONS\",\n",
      "  \"ResponseMetadata\": {\n",
      "    \"RequestId\": \"a3a53ee2-c4f4-4b81-8a8e-0197fb4b4968\",\n",
      "    \"HTTPStatusCode\": 200,\n",
      "    \"HTTPHeaders\": {\n",
      "      \"content-type\": \"application/x-amz-json-1.1\",\n",
      "      \"date\": \"Wed, 28 Oct 2020 07:42:09 GMT\",\n",
      "      \"x-amzn-requestid\": \"a3a53ee2-c4f4-4b81-8a8e-0197fb4b4968\",\n",
      "      \"content-length\": \"109\",\n",
      "      \"connection\": \"keep-alive\"\n",
      "    },\n",
      "    \"RetryAttempts\": 0\n",
      "  }\n",
      "}\n"
     ]
    }
   ],
   "source": [
    "dataset_type = \"INTERACTIONS\"\n",
    "create_dataset_response = personalize.create_dataset(\n",
    "    name = \"{}-{}-interaction-dataset\".format(base_name, iteration),\n",
    "    datasetType = dataset_type,\n",
    "    datasetGroupArn = dataset_group_arn,\n",
    "    schemaArn = schema_arn\n",
    ")\n",
    "\n",
    "dataset_arn = create_dataset_response['datasetArn']\n",
    "print(json.dumps(create_dataset_response, indent=2))"
   ]
  },
  {
   "cell_type": "markdown",
   "metadata": {},
   "source": [
    "**Attach Policy to S3 Bucket**"
   ]
  },
  {
   "cell_type": "code",
   "execution_count": 18,
   "metadata": {},
   "outputs": [
    {
     "data": {
      "text/plain": [
       "{'ResponseMetadata': {'RequestId': 'E5AD996A29903F0A',\n",
       "  'HostId': 'MYV+qFQqy1ciHbilHH+Go9DncX+TuAG+jHl3X8kz7A+bql/VqrqUHevI8piD+Y4GBWohdTqq2Vw=',\n",
       "  'HTTPStatusCode': 204,\n",
       "  'HTTPHeaders': {'x-amz-id-2': 'MYV+qFQqy1ciHbilHH+Go9DncX+TuAG+jHl3X8kz7A+bql/VqrqUHevI8piD+Y4GBWohdTqq2Vw=',\n",
       "   'x-amz-request-id': 'E5AD996A29903F0A',\n",
       "   'date': 'Wed, 28 Oct 2020 07:42:11 GMT',\n",
       "   'server': 'AmazonS3'},\n",
       "  'RetryAttempts': 0}}"
      ]
     },
     "execution_count": 18,
     "metadata": {},
     "output_type": "execute_result"
    }
   ],
   "source": [
    "s3 = boto3.client(\"s3\")\n",
    "\n",
    "policy = {\n",
    "    \"Version\": \"2012-10-17\",\n",
    "    \"Id\": \"PersonalizeS3BucketAccessPolicy{}{}\".format(base_name, iteration),\n",
    "    \"Statement\": [\n",
    "        {\n",
    "            \"Sid\": \"PersonalizeS3BucketAccessPolicy\",\n",
    "            \"Effect\": \"Allow\",\n",
    "            \"Principal\": {\n",
    "                \"Service\": \"personalize.amazonaws.com\"\n",
    "            },\n",
    "            \"Action\": [\n",
    "                \"s3:GetObject\",\n",
    "                \"s3:ListBucket\"\n",
    "            ],\n",
    "            \"Resource\": [\n",
    "                \"arn:aws:s3:::{}\".format(bucket),\n",
    "                \"arn:aws:s3:::{}/*\".format(bucket)\n",
    "            ]\n",
    "        }\n",
    "    ]\n",
    "}\n",
    "\n",
    "s3.put_bucket_policy(Bucket=bucket, Policy=json.dumps(policy))"
   ]
  },
  {
   "cell_type": "markdown",
   "metadata": {},
   "source": [
    "**Create Personalize Role**"
   ]
  },
  {
   "cell_type": "code",
   "execution_count": 19,
   "metadata": {},
   "outputs": [
    {
     "name": "stdout",
     "output_type": "stream",
     "text": [
      "arn:aws:iam::344028372807:role/PersonalizeRoleForRecommendationfashion1\n"
     ]
    }
   ],
   "source": [
    "iam = boto3.client(\"iam\")\n",
    "\n",
    "role_name = \"PersonalizeRoleForRecommendation{}{}\".format(base_name, iteration)\n",
    "assume_role_policy_document = {\n",
    "    \"Version\": \"2012-10-17\",\n",
    "    \"Statement\": [\n",
    "        {\n",
    "          \"Effect\": \"Allow\",\n",
    "          \"Principal\": {\n",
    "            \"Service\": \"personalize.amazonaws.com\"\n",
    "          },\n",
    "          \"Action\": \"sts:AssumeRole\"\n",
    "        }\n",
    "    ]\n",
    "}\n",
    "\n",
    "create_role_response = iam.create_role(\n",
    "    RoleName = role_name,\n",
    "    AssumeRolePolicyDocument = json.dumps(assume_role_policy_document)\n",
    ")\n",
    "\n",
    "# AmazonPersonalizeFullAccess provides access to any S3 bucket with a name that includes \"personalize\" or \"Personalize\" \n",
    "# if you would like to use a bucket with a different name, please consider creating and attaching a new policy\n",
    "# that provides read access to your bucket or attaching the AmazonS3ReadOnlyAccess policy to the role\n",
    "policy_arn = \"arn:aws:iam::aws:policy/service-role/AmazonPersonalizeFullAccess\"\n",
    "iam.attach_role_policy(\n",
    "    RoleName = role_name,\n",
    "    PolicyArn = policy_arn\n",
    ")\n",
    "\n",
    "time.sleep(60) # wait for a minute to allow IAM role policy attachment to propagate\n",
    "\n",
    "role_arn = create_role_response[\"Role\"][\"Arn\"]\n",
    "print(role_arn)"
   ]
  },
  {
   "cell_type": "code",
   "execution_count": 20,
   "metadata": {},
   "outputs": [],
   "source": [
    "import json\n",
    "role_policy_document = {\n",
    "    \"Version\": \"2012-10-17\",\n",
    "    \"Statement\": [\n",
    "        {\n",
    "          \"Effect\": \"Allow\",\n",
    "          \"Action\": \"s3:*\",\n",
    "          \"Resource\":\"*\"\n",
    "        }\n",
    "    ]\n",
    "}\n",
    "response = iam.create_policy(\n",
    "    PolicyName='PersonalizeToS3{}{}'.format(base_name, iteration),\n",
    "    PolicyDocument=json.dumps(role_policy_document)\n",
    ")\n",
    "\n",
    "response = iam.attach_role_policy(\n",
    "    RoleName=role_name, PolicyArn=response['Policy']['Arn'])\n",
    "\n",
    "time.sleep(60) # wait for a minute to allow IAM role policy attachment to propagate"
   ]
  },
  {
   "cell_type": "markdown",
   "metadata": {},
   "source": [
    "**Create dataset import job**"
   ]
  },
  {
   "cell_type": "code",
   "execution_count": 21,
   "metadata": {},
   "outputs": [
    {
     "name": "stdout",
     "output_type": "stream",
     "text": [
      "{\n",
      "  \"datasetImportJobArn\": \"arn:aws:personalize:ap-southeast-1:344028372807:dataset-import-job/fashion-1-interaction-import-job\",\n",
      "  \"ResponseMetadata\": {\n",
      "    \"RequestId\": \"21a46e2b-bff1-474f-a5e6-ab0a70d23d36\",\n",
      "    \"HTTPStatusCode\": 200,\n",
      "    \"HTTPHeaders\": {\n",
      "      \"content-type\": \"application/x-amz-json-1.1\",\n",
      "      \"date\": \"Wed, 28 Oct 2020 07:44:14 GMT\",\n",
      "      \"x-amzn-requestid\": \"21a46e2b-bff1-474f-a5e6-ab0a70d23d36\",\n",
      "      \"content-length\": \"125\",\n",
      "      \"connection\": \"keep-alive\"\n",
      "    },\n",
      "    \"RetryAttempts\": 0\n",
      "  }\n",
      "}\n"
     ]
    }
   ],
   "source": [
    "create_dataset_import_job_response = personalize.create_dataset_import_job(\n",
    "    jobName = \"{}-{}-interaction-import-job\".format(base_name, iteration),\n",
    "    datasetArn = dataset_arn,\n",
    "    dataSource = {\n",
    "        \"dataLocation\": \"s3://{}/{}/{}\".format(bucket, prefix, filename)\n",
    "    },\n",
    "    roleArn = role_arn\n",
    ")\n",
    "\n",
    "dataset_import_job_arn = create_dataset_import_job_response['datasetImportJobArn']\n",
    "print(json.dumps(create_dataset_import_job_response, indent=2))"
   ]
  },
  {
   "cell_type": "markdown",
   "metadata": {},
   "source": [
    "**Wait for Dataset Import Job to Have ACTIVE Status**"
   ]
  },
  {
   "cell_type": "code",
   "execution_count": 22,
   "metadata": {},
   "outputs": [
    {
     "name": "stdout",
     "output_type": "stream",
     "text": [
      "DatasetImportJob: CREATE PENDING\n",
      "DatasetImportJob: CREATE IN_PROGRESS\n",
      "DatasetImportJob: CREATE IN_PROGRESS\n",
      "DatasetImportJob: CREATE IN_PROGRESS\n",
      "DatasetImportJob: CREATE IN_PROGRESS\n",
      "DatasetImportJob: CREATE IN_PROGRESS\n",
      "DatasetImportJob: CREATE IN_PROGRESS\n",
      "DatasetImportJob: CREATE IN_PROGRESS\n",
      "DatasetImportJob: CREATE IN_PROGRESS\n",
      "DatasetImportJob: CREATE IN_PROGRESS\n",
      "DatasetImportJob: CREATE IN_PROGRESS\n",
      "DatasetImportJob: CREATE IN_PROGRESS\n",
      "DatasetImportJob: CREATE IN_PROGRESS\n",
      "DatasetImportJob: CREATE IN_PROGRESS\n",
      "DatasetImportJob: ACTIVE\n"
     ]
    }
   ],
   "source": [
    "max_time = time.time() + 3*60*60 # 3 hours\n",
    "while time.time() < max_time:\n",
    "    describe_dataset_import_job_response = personalize.describe_dataset_import_job(\n",
    "        datasetImportJobArn = dataset_import_job_arn\n",
    "    )\n",
    "    status = describe_dataset_import_job_response[\"datasetImportJob\"]['status']\n",
    "    print(\"DatasetImportJob: {}\".format(status))\n",
    "    \n",
    "    if status == \"ACTIVE\" or status == \"CREATE FAILED\":\n",
    "        break\n",
    "        \n",
    "    time.sleep(60)\n",
    "\n"
   ]
  },
  {
   "cell_type": "markdown",
   "metadata": {},
   "source": [
    "## Train"
   ]
  },
  {
   "cell_type": "markdown",
   "metadata": {},
   "source": [
    "**Select Recipe**"
   ]
  },
  {
   "cell_type": "code",
   "execution_count": 23,
   "metadata": {},
   "outputs": [],
   "source": [
    "list_recipes_response = personalize.list_recipes()\n",
    "recipe_arn_up = \"arn:aws:personalize:::recipe/aws-user-personalization\"\n",
    "recipe_arn_hrnn = \"arn:aws:personalize:::recipe/aws-hrnn\""
   ]
  },
  {
   "cell_type": "markdown",
   "metadata": {},
   "source": [
    "**Define Solution Configuration**"
   ]
  },
  {
   "cell_type": "code",
   "execution_count": null,
   "metadata": {},
   "outputs": [],
   "source": [
    "solution_config = {\n",
    "        \"eventValueThreshold\": str(review_star_threshold),\n",
    "        \"algorithmHyperParameters\": {\n",
    "            \"exploration_weight\" : \"0.3\", # decrease to reduce exploration\n",
    "            \"min_user_history_length_percentile\" : \"0.0\" # increase to remove popular item\n",
    "        },\n",
    "        \"hpoConfig\": {\n",
    "            \"algorithmHyperParameterRanges\": {\n",
    "                'integerHyperParameterRanges': [\n",
    "                    {\n",
    "                        'name': 'hidden_dimension',\n",
    "                        'minValue': 32,\n",
    "                        'maxValue': 256\n",
    "                    },\n",
    "                    {\n",
    "                        'name': 'bptt', # decrease to discard long-term factor that results to purchases\n",
    "                        'minValue': 2,\n",
    "                        'maxValue': 32\n",
    "                    },\n",
    "                ],\n",
    "                'categoricalHyperParameterRanges': [\n",
    "                    {\n",
    "                        'name': 'recency_mask', # set to false for discarding recency factor of purchases\n",
    "                        'values': [\n",
    "                            'True','False'\n",
    "                        ]\n",
    "                    },\n",
    "                ]\n",
    "            },\n",
    "            \"hpoResourceConfig\": {\n",
    "                \"maxNumberOfTrainingJobs\": \"51\",\n",
    "                \"maxParallelTrainingJobs\": \"3\"\n",
    "            }\n",
    "        }\n",
    "    }"
   ]
  },
  {
   "cell_type": "markdown",
   "metadata": {},
   "source": [
    "**Create Solution for User Personalization**"
   ]
  },
  {
   "cell_type": "code",
   "execution_count": 25,
   "metadata": {},
   "outputs": [
    {
     "name": "stdout",
     "output_type": "stream",
     "text": [
      "{\n",
      "  \"solutionArn\": \"arn:aws:personalize:ap-southeast-1:344028372807:solution/fashion-1-up-solution\",\n",
      "  \"ResponseMetadata\": {\n",
      "    \"RequestId\": \"af9836e0-7de5-4c54-87e2-fab74281a8ea\",\n",
      "    \"HTTPStatusCode\": 200,\n",
      "    \"HTTPHeaders\": {\n",
      "      \"content-type\": \"application/x-amz-json-1.1\",\n",
      "      \"date\": \"Wed, 28 Oct 2020 08:27:08 GMT\",\n",
      "      \"x-amzn-requestid\": \"af9836e0-7de5-4c54-87e2-fab74281a8ea\",\n",
      "      \"content-length\": \"96\",\n",
      "      \"connection\": \"keep-alive\"\n",
      "    },\n",
      "    \"RetryAttempts\": 0\n",
      "  }\n",
      "}\n",
      "{\n",
      "  \"solutionArn\": \"arn:aws:personalize:ap-southeast-1:344028372807:solution/fashion-1-hrnn-solution\",\n",
      "  \"ResponseMetadata\": {\n",
      "    \"RequestId\": \"6a58552b-c9b5-40db-89a2-6b15051df532\",\n",
      "    \"HTTPStatusCode\": 200,\n",
      "    \"HTTPHeaders\": {\n",
      "      \"content-type\": \"application/x-amz-json-1.1\",\n",
      "      \"date\": \"Wed, 28 Oct 2020 08:27:08 GMT\",\n",
      "      \"x-amzn-requestid\": \"6a58552b-c9b5-40db-89a2-6b15051df532\",\n",
      "      \"content-length\": \"98\",\n",
      "      \"connection\": \"keep-alive\"\n",
      "    },\n",
      "    \"RetryAttempts\": 0\n",
      "  }\n",
      "}\n"
     ]
    }
   ],
   "source": [
    "create_solution_response_up = personalize.create_solution(\n",
    "    name = \"{}-{}-up-solution\".format(base_name, iteration),\n",
    "    datasetGroupArn = dataset_group_arn,\n",
    "    recipeArn = recipe_arn_up,\n",
    "    eventType = 'reviewed',\n",
    "    solutionConfig = {\n",
    "        \"eventValueThreshold\": str(review_star_threshold)\n",
    "    }\n",
    ")\n",
    "\n",
    "create_solution_response_hrnn = personalize.create_solution(\n",
    "    name = \"{}-{}-hrnn-solution\".format(base_name, iteration),\n",
    "    datasetGroupArn = dataset_group_arn,\n",
    "    recipeArn = recipe_arn_hrnn,\n",
    "    eventType = 'reviewed',\n",
    "    solutionConfig = solution_config\n",
    ")\n",
    "\n",
    "solution_arn_up = create_solution_response_up['solutionArn']\n",
    "solution_arn_hrnn = create_solution_response_hrnn['solutionArn']\n",
    "print(json.dumps(create_solution_response_up, indent=2))\n",
    "print(json.dumps(create_solution_response_hrnn, indent=2))"
   ]
  },
  {
   "cell_type": "markdown",
   "metadata": {},
   "source": [
    "**Create Solution Version**"
   ]
  },
  {
   "cell_type": "code",
   "execution_count": 26,
   "metadata": {},
   "outputs": [
    {
     "name": "stdout",
     "output_type": "stream",
     "text": [
      "{\n",
      "  \"solutionVersionArn\": \"arn:aws:personalize:ap-southeast-1:344028372807:solution/fashion-1-up-solution/96d637cc\",\n",
      "  \"ResponseMetadata\": {\n",
      "    \"RequestId\": \"f45d8868-80f3-4306-807a-aba8080dfd34\",\n",
      "    \"HTTPStatusCode\": 200,\n",
      "    \"HTTPHeaders\": {\n",
      "      \"content-type\": \"application/x-amz-json-1.1\",\n",
      "      \"date\": \"Wed, 28 Oct 2020 08:27:10 GMT\",\n",
      "      \"x-amzn-requestid\": \"f45d8868-80f3-4306-807a-aba8080dfd34\",\n",
      "      \"content-length\": \"112\",\n",
      "      \"connection\": \"keep-alive\"\n",
      "    },\n",
      "    \"RetryAttempts\": 0\n",
      "  }\n",
      "}\n",
      "{\n",
      "  \"solutionVersionArn\": \"arn:aws:personalize:ap-southeast-1:344028372807:solution/fashion-1-hrnn-solution/ac758e71\",\n",
      "  \"ResponseMetadata\": {\n",
      "    \"RequestId\": \"c4ea969f-029d-4efe-b8c4-8c3eb653fcd7\",\n",
      "    \"HTTPStatusCode\": 200,\n",
      "    \"HTTPHeaders\": {\n",
      "      \"content-type\": \"application/x-amz-json-1.1\",\n",
      "      \"date\": \"Wed, 28 Oct 2020 08:27:11 GMT\",\n",
      "      \"x-amzn-requestid\": \"c4ea969f-029d-4efe-b8c4-8c3eb653fcd7\",\n",
      "      \"content-length\": \"114\",\n",
      "      \"connection\": \"keep-alive\"\n",
      "    },\n",
      "    \"RetryAttempts\": 0\n",
      "  }\n",
      "}\n"
     ]
    }
   ],
   "source": [
    "create_solution_version_response_up = personalize.create_solution_version(\n",
    "    solutionArn = solution_arn_up\n",
    ")\n",
    "\n",
    "create_solution_version_response_hrnn = personalize.create_solution_version(\n",
    "    solutionArn = solution_arn_hrnn\n",
    ")\n",
    "\n",
    "solution_version_arn_up = create_solution_version_response_up['solutionVersionArn']\n",
    "solution_version_arn_hrnn = create_solution_version_response_hrnn['solutionVersionArn']\n",
    "print(json.dumps(create_solution_version_response_up, indent=2))\n",
    "print(json.dumps(create_solution_version_response_hrnn, indent=2))"
   ]
  },
  {
   "cell_type": "markdown",
   "metadata": {},
   "source": [
    "**Wait for Solution Version to Have ACTIVE Status**"
   ]
  },
  {
   "cell_type": "code",
   "execution_count": 27,
   "metadata": {},
   "outputs": [
    {
     "name": "stdout",
     "output_type": "stream",
     "text": [
      "SolutionVersion: CREATE PENDING\n",
      "SolutionVersion: CREATE IN_PROGRESS\n",
      "SolutionVersion: CREATE IN_PROGRESS\n",
      "SolutionVersion: CREATE IN_PROGRESS\n",
      "SolutionVersion: CREATE IN_PROGRESS\n",
      "SolutionVersion: CREATE IN_PROGRESS\n",
      "SolutionVersion: CREATE IN_PROGRESS\n",
      "SolutionVersion: CREATE IN_PROGRESS\n",
      "SolutionVersion: CREATE IN_PROGRESS\n",
      "SolutionVersion: CREATE IN_PROGRESS\n",
      "SolutionVersion: CREATE IN_PROGRESS\n",
      "SolutionVersion: CREATE IN_PROGRESS\n",
      "SolutionVersion: CREATE IN_PROGRESS\n",
      "SolutionVersion: CREATE IN_PROGRESS\n",
      "SolutionVersion: CREATE IN_PROGRESS\n",
      "SolutionVersion: CREATE IN_PROGRESS\n",
      "SolutionVersion: CREATE IN_PROGRESS\n",
      "SolutionVersion: CREATE IN_PROGRESS\n",
      "SolutionVersion: CREATE IN_PROGRESS\n",
      "SolutionVersion: CREATE IN_PROGRESS\n",
      "SolutionVersion: CREATE IN_PROGRESS\n",
      "SolutionVersion: CREATE IN_PROGRESS\n",
      "SolutionVersion: CREATE IN_PROGRESS\n",
      "SolutionVersion: CREATE IN_PROGRESS\n",
      "SolutionVersion: CREATE IN_PROGRESS\n",
      "SolutionVersion: CREATE IN_PROGRESS\n",
      "SolutionVersion: CREATE IN_PROGRESS\n",
      "SolutionVersion: CREATE IN_PROGRESS\n",
      "SolutionVersion: CREATE IN_PROGRESS\n",
      "SolutionVersion: CREATE IN_PROGRESS\n",
      "SolutionVersion: CREATE IN_PROGRESS\n",
      "SolutionVersion: CREATE IN_PROGRESS\n",
      "SolutionVersion: CREATE IN_PROGRESS\n",
      "SolutionVersion: CREATE IN_PROGRESS\n",
      "SolutionVersion: CREATE IN_PROGRESS\n",
      "SolutionVersion: CREATE IN_PROGRESS\n",
      "SolutionVersion: CREATE IN_PROGRESS\n",
      "SolutionVersion: CREATE IN_PROGRESS\n",
      "SolutionVersion: CREATE IN_PROGRESS\n",
      "SolutionVersion: CREATE IN_PROGRESS\n",
      "SolutionVersion: CREATE IN_PROGRESS\n",
      "SolutionVersion: CREATE IN_PROGRESS\n",
      "SolutionVersion: CREATE IN_PROGRESS\n",
      "SolutionVersion: CREATE IN_PROGRESS\n",
      "SolutionVersion: CREATE IN_PROGRESS\n",
      "SolutionVersion: CREATE IN_PROGRESS\n",
      "SolutionVersion: CREATE IN_PROGRESS\n",
      "SolutionVersion: CREATE IN_PROGRESS\n",
      "SolutionVersion: CREATE IN_PROGRESS\n",
      "SolutionVersion: CREATE IN_PROGRESS\n",
      "SolutionVersion: CREATE IN_PROGRESS\n",
      "SolutionVersion: CREATE IN_PROGRESS\n",
      "SolutionVersion: CREATE IN_PROGRESS\n",
      "SolutionVersion: CREATE IN_PROGRESS\n",
      "SolutionVersion: CREATE IN_PROGRESS\n",
      "SolutionVersion: CREATE IN_PROGRESS\n",
      "SolutionVersion: CREATE IN_PROGRESS\n",
      "SolutionVersion: CREATE IN_PROGRESS\n",
      "SolutionVersion: ACTIVE\n"
     ]
    }
   ],
   "source": [
    "max_time = time.time() + 3*60*60 # 3 hours\n",
    "while time.time() < max_time:\n",
    "    describe_solution_version_response = personalize.describe_solution_version(\n",
    "        solutionVersionArn = solution_version_arn_up\n",
    "    )\n",
    "    status = describe_solution_version_response[\"solutionVersion\"][\"status\"]\n",
    "    print(\"SolutionVersion: {}\".format(status))\n",
    "    \n",
    "    if status == \"ACTIVE\" or status == \"CREATE FAILED\":\n",
    "        break\n",
    "        \n",
    "    time.sleep(60)"
   ]
  },
  {
   "cell_type": "code",
   "execution_count": 28,
   "metadata": {},
   "outputs": [
    {
     "name": "stdout",
     "output_type": "stream",
     "text": [
      "SolutionVersion: ACTIVE\n"
     ]
    }
   ],
   "source": [
    "max_time = time.time() + 3*60*60 # 3 hours\n",
    "while time.time() < max_time:\n",
    "    describe_solution_version_response = personalize.describe_solution_version(\n",
    "        solutionVersionArn = solution_version_arn_hrnn\n",
    "    )\n",
    "    status = describe_solution_version_response[\"solutionVersion\"][\"status\"]\n",
    "    print(\"SolutionVersion: {}\".format(status))\n",
    "    \n",
    "    if status == \"ACTIVE\" or status == \"CREATE FAILED\":\n",
    "        break\n",
    "        \n",
    "    time.sleep(60)"
   ]
  },
  {
   "cell_type": "markdown",
   "metadata": {},
   "source": [
    "**Get Metrics of Solution**"
   ]
  },
  {
   "cell_type": "code",
   "execution_count": 29,
   "metadata": {},
   "outputs": [
    {
     "name": "stdout",
     "output_type": "stream",
     "text": [
      "{\n",
      "  \"solutionVersionArn\": \"arn:aws:personalize:ap-southeast-1:344028372807:solution/fashion-1-up-solution/96d637cc\",\n",
      "  \"metrics\": {\n",
      "    \"coverage\": 0.0013,\n",
      "    \"mean_reciprocal_rank_at_25\": 0.2042,\n",
      "    \"normalized_discounted_cumulative_gain_at_10\": 0.2098,\n",
      "    \"normalized_discounted_cumulative_gain_at_25\": 0.2127,\n",
      "    \"normalized_discounted_cumulative_gain_at_5\": 0.2076,\n",
      "    \"precision_at_10\": 0.0217,\n",
      "    \"precision_at_25\": 0.0092,\n",
      "    \"precision_at_5\": 0.0422\n",
      "  },\n",
      "  \"ResponseMetadata\": {\n",
      "    \"RequestId\": \"30ecb090-de49-4e99-aef8-b4fba8861344\",\n",
      "    \"HTTPStatusCode\": 200,\n",
      "    \"HTTPHeaders\": {\n",
      "      \"content-type\": \"application/x-amz-json-1.1\",\n",
      "      \"date\": \"Wed, 28 Oct 2020 09:25:22 GMT\",\n",
      "      \"x-amzn-requestid\": \"30ecb090-de49-4e99-aef8-b4fba8861344\",\n",
      "      \"content-length\": \"410\",\n",
      "      \"connection\": \"keep-alive\"\n",
      "    },\n",
      "    \"RetryAttempts\": 0\n",
      "  }\n",
      "}\n",
      "{\n",
      "  \"solutionVersionArn\": \"arn:aws:personalize:ap-southeast-1:344028372807:solution/fashion-1-hrnn-solution/ac758e71\",\n",
      "  \"metrics\": {\n",
      "    \"coverage\": 0.001,\n",
      "    \"mean_reciprocal_rank_at_25\": 0.2064,\n",
      "    \"normalized_discounted_cumulative_gain_at_10\": 0.209,\n",
      "    \"normalized_discounted_cumulative_gain_at_25\": 0.2101,\n",
      "    \"normalized_discounted_cumulative_gain_at_5\": 0.2083,\n",
      "    \"precision_at_10\": 0.0212,\n",
      "    \"precision_at_25\": 0.0087,\n",
      "    \"precision_at_5\": 0.042\n",
      "  },\n",
      "  \"ResponseMetadata\": {\n",
      "    \"RequestId\": \"6fd5866a-44f2-4bfb-b6d3-fcc84384fb18\",\n",
      "    \"HTTPStatusCode\": 200,\n",
      "    \"HTTPHeaders\": {\n",
      "      \"content-type\": \"application/x-amz-json-1.1\",\n",
      "      \"date\": \"Wed, 28 Oct 2020 09:25:22 GMT\",\n",
      "      \"x-amzn-requestid\": \"6fd5866a-44f2-4bfb-b6d3-fcc84384fb18\",\n",
      "      \"content-length\": \"409\",\n",
      "      \"connection\": \"keep-alive\"\n",
      "    },\n",
      "    \"RetryAttempts\": 0\n",
      "  }\n",
      "}\n"
     ]
    }
   ],
   "source": [
    "get_solution_metrics_response_up = personalize.get_solution_metrics(\n",
    "    solutionVersionArn = solution_version_arn_up\n",
    ")\n",
    "get_solution_metrics_response_hrnn = personalize.get_solution_metrics(\n",
    "    solutionVersionArn = solution_version_arn_hrnn\n",
    ")\n",
    "\n",
    "print(json.dumps(get_solution_metrics_response_up, indent=2))\n",
    "print(json.dumps(get_solution_metrics_response_hrnn, indent=2))"
   ]
  },
  {
   "cell_type": "markdown",
   "metadata": {},
   "source": [
    "## Deploy"
   ]
  },
  {
   "cell_type": "markdown",
   "metadata": {},
   "source": [
    "**Create Campaign**"
   ]
  },
  {
   "cell_type": "code",
   "execution_count": 34,
   "metadata": {},
   "outputs": [
    {
     "name": "stdout",
     "output_type": "stream",
     "text": [
      "{\n",
      "  \"campaignArn\": \"arn:aws:personalize:ap-southeast-1:344028372807:campaign/fashion-1-campaign\",\n",
      "  \"ResponseMetadata\": {\n",
      "    \"RequestId\": \"3f5df0f1-a99a-4830-9e66-42ea3b74d866\",\n",
      "    \"HTTPStatusCode\": 200,\n",
      "    \"HTTPHeaders\": {\n",
      "      \"content-type\": \"application/x-amz-json-1.1\",\n",
      "      \"date\": \"Wed, 28 Oct 2020 09:25:22 GMT\",\n",
      "      \"x-amzn-requestid\": \"3f5df0f1-a99a-4830-9e66-42ea3b74d866\",\n",
      "      \"content-length\": \"93\",\n",
      "      \"connection\": \"keep-alive\"\n",
      "    },\n",
      "    \"RetryAttempts\": 0\n",
      "  }\n",
      "}\n",
      "{\n",
      "  \"campaignArn\": \"arn:aws:personalize:ap-southeast-1:344028372807:campaign/fashion-1-campaign-hrnn\",\n",
      "  \"ResponseMetadata\": {\n",
      "    \"RequestId\": \"21db6f4b-9d43-4d78-8648-515f207e187e\",\n",
      "    \"HTTPStatusCode\": 200,\n",
      "    \"HTTPHeaders\": {\n",
      "      \"content-type\": \"application/x-amz-json-1.1\",\n",
      "      \"date\": \"Wed, 28 Oct 2020 09:49:53 GMT\",\n",
      "      \"x-amzn-requestid\": \"21db6f4b-9d43-4d78-8648-515f207e187e\",\n",
      "      \"content-length\": \"98\",\n",
      "      \"connection\": \"keep-alive\"\n",
      "    },\n",
      "    \"RetryAttempts\": 0\n",
      "  }\n",
      "}\n"
     ]
    }
   ],
   "source": [
    "create_campaign_response_up = personalize.create_campaign(\n",
    "    name = \"{}-{}-campaign-up\".format(base_name, iteration),\n",
    "    solutionVersionArn = solution_version_arn_up,\n",
    "    minProvisionedTPS = 1\n",
    ")\n",
    "create_campaign_response_hrnn = personalize.create_campaign(\n",
    "    name = \"{}-{}-campaign-hrnn\".format(base_name, iteration),\n",
    "    solutionVersionArn = solution_version_arn_hrnn,\n",
    "    minProvisionedTPS = 1\n",
    ")\n",
    "\n",
    "campaign_arn_up = create_campaign_response_up['campaignArn']\n",
    "campaign_arn_hrnn = create_campaign_response_hrnn['campaignArn']\n",
    "print(json.dumps(create_campaign_response_up, indent=2))\n",
    "print(json.dumps(create_campaign_response_hrnn, indent=2))\n"
   ]
  },
  {
   "cell_type": "markdown",
   "metadata": {},
   "source": [
    "**Wait for Campaign to Have ACTIVE Status**"
   ]
  },
  {
   "cell_type": "code",
   "execution_count": 35,
   "metadata": {},
   "outputs": [
    {
     "name": "stdout",
     "output_type": "stream",
     "text": [
      "Campaign: ACTIVE\n"
     ]
    }
   ],
   "source": [
    "max_time = time.time() + 3*60*60 # 3 hours\n",
    "while time.time() < max_time:\n",
    "    describe_campaign_response = personalize.describe_campaign(\n",
    "        campaignArn = campaign_arn_up\n",
    "    )\n",
    "    status = describe_campaign_response[\"campaign\"][\"status\"]\n",
    "    print(\"Campaign: {}\".format(status))\n",
    "    \n",
    "    if status == \"ACTIVE\" or status == \"CREATE FAILED\":\n",
    "        break\n",
    "        \n",
    "    time.sleep(60)"
   ]
  },
  {
   "cell_type": "code",
   "execution_count": 36,
   "metadata": {},
   "outputs": [
    {
     "name": "stdout",
     "output_type": "stream",
     "text": [
      "Campaign: CREATE IN_PROGRESS\n",
      "Campaign: CREATE IN_PROGRESS\n",
      "Campaign: CREATE IN_PROGRESS\n",
      "Campaign: CREATE IN_PROGRESS\n",
      "Campaign: CREATE IN_PROGRESS\n",
      "Campaign: CREATE IN_PROGRESS\n",
      "Campaign: CREATE IN_PROGRESS\n",
      "Campaign: ACTIVE\n"
     ]
    }
   ],
   "source": [
    "max_time = time.time() + 3*60*60 # 3 hours\n",
    "while time.time() < max_time:\n",
    "    describe_campaign_response = personalize.describe_campaign(\n",
    "        campaignArn = campaign_arn_hrnn\n",
    "    )\n",
    "    status = describe_campaign_response[\"campaign\"][\"status\"]\n",
    "    print(\"Campaign: {}\".format(status))\n",
    "    \n",
    "    if status == \"ACTIVE\" or status == \"CREATE FAILED\":\n",
    "        break\n",
    "        \n",
    "    time.sleep(60)"
   ]
  },
  {
   "cell_type": "markdown",
   "metadata": {},
   "source": [
    "## Clean and upload product metadata"
   ]
  },
  {
   "cell_type": "code",
   "execution_count": 37,
   "metadata": {},
   "outputs": [],
   "source": [
    "filename = 'metadata.json'\n",
    "boto3.Session().resource('s3').Bucket(bucket).Object(\"{}/{}\".format(prefix,filename)).upload_file(filename)"
   ]
  },
  {
   "cell_type": "markdown",
   "metadata": {},
   "source": [
    "## Prepare for inference"
   ]
  },
  {
   "cell_type": "markdown",
   "metadata": {},
   "source": [
    "**Prepare method to enrich the items information with title and image URL**"
   ]
  },
  {
   "cell_type": "code",
   "execution_count": 38,
   "metadata": {},
   "outputs": [],
   "source": [
    "import json\n",
    "def encrich_with_metadata(products):\n",
    "    client = boto3.client('s3')\n",
    "    r = client.select_object_content(\n",
    "        Bucket=bucket,\n",
    "        Key=\"{}/metadata.json\".format(prefix),\n",
    "        Expression=\"SELECT s.image, s.asin, s.title FROM S3Object s WHERE s.asin IN {}\".format(products),\n",
    "        #Expression=\"SELECT s.imUrl, s.asin, s.title FROM S3Object s WHERE s.asin IN {}\".format(products),\n",
    "        ExpressionType='SQL',\n",
    "        RequestProgress={\n",
    "            'Enabled': False\n",
    "        },\n",
    "        InputSerialization={\n",
    "            'JSON': {\n",
    "                'Type': 'LINES'\n",
    "            }\n",
    "        },\n",
    "        OutputSerialization={\n",
    "            'JSON':{\n",
    "                'RecordDelimiter': '\\n',\n",
    "            }\n",
    "        },\n",
    "    )\n",
    "    output = []\n",
    "    for event in r['Payload']:\n",
    "        if 'Records' in event:\n",
    "            recs = event['Records']['Payload'].decode('utf-8').strip().split(\"\\n\")\n",
    "            recs = list(map(lambda x: json.loads(x), recs))\n",
    "            output += recs\n",
    "    return output"
   ]
  },
  {
   "cell_type": "markdown",
   "metadata": {},
   "source": [
    "**Build filter to exlude items that user has purchased and reviewed**"
   ]
  },
  {
   "cell_type": "code",
   "execution_count": 43,
   "metadata": {},
   "outputs": [],
   "source": [
    "filter_response = personalize.create_filter(\n",
    "    name='{}-{}-exclude-purchases'.format(base_name, iteration),\n",
    "    datasetGroupArn= dataset_group_arn,\n",
    "    filterExpression= 'EXCLUDE ItemID WHERE Interactions.event_type IN (\"reviewed\")'\n",
    ")"
   ]
  },
  {
   "cell_type": "code",
   "execution_count": 46,
   "metadata": {},
   "outputs": [
    {
     "name": "stdout",
     "output_type": "stream",
     "text": [
      "Filter: ACTIVE\n"
     ]
    }
   ],
   "source": [
    "max_time = time.time() + 3*60*60 # 3 hours\n",
    "while time.time() < max_time:\n",
    "    describe_filter_response = personalize.describe_filter(\n",
    "        filterArn = filter_response['filterArn']\n",
    "    )\n",
    "    status = describe_filter_response[\"filter\"][\"status\"]\n",
    "    print(\"Filter: {}\".format(status))\n",
    "    \n",
    "    if status == \"ACTIVE\" or status == \"CREATE FAILED\":\n",
    "        break\n",
    "        \n",
    "    time.sleep(60)"
   ]
  },
  {
   "cell_type": "markdown",
   "metadata": {},
   "source": [
    "**Get a sample user to test**"
   ]
  },
  {
   "cell_type": "code",
   "execution_count": 119,
   "metadata": {},
   "outputs": [],
   "source": [
    "# Get a user who has considerable number of reviews\n",
    "#user_id = ratings_df[ratings_df['EVENT_VALUE'] >= review_star_threshold]['USER_ID'].value_counts()[:2000].index.to_list()[1995]\n",
    "user_id = ratings_df[ratings_df['EVENT_VALUE'] >= review_star_threshold]['USER_ID'].value_counts()[:2000].index.to_list()[20]"
   ]
  },
  {
   "cell_type": "markdown",
   "metadata": {},
   "source": [
    "**Define method to display items for view purpose**"
   ]
  },
  {
   "cell_type": "code",
   "execution_count": 120,
   "metadata": {},
   "outputs": [],
   "source": [
    "import re\n",
    "def display_items(items):\n",
    "    image_string = \"\"\n",
    "    i = 1\n",
    "    for item in items:\n",
    "        if 'score' in item:\n",
    "            caption = \"{}---Score:{}---Name: {}---ASIN:{}\".format(str(i),item['score'], item['title'],item['asin'])\n",
    "        else:\n",
    "            caption = \"{}---Name: {}---ASIN:{}\".format(str(i),item['title'],item['asin'])\n",
    "        if len(item['image']) > 0:\n",
    "            image = item['image'][0]\n",
    "            image = re.sub(r'SR..,..','SR200,200',image)\n",
    "            image = re.sub(r'US..','US200',image)\n",
    "            image = re.sub(r'SS..','SS200',image)\n",
    "            image = re.sub(r'SX..','SX200',image)\n",
    "            image = re.sub(r'SY..','SX200',image)\n",
    "            image = re.sub(r'CR,0,0,..,..','CR,0,0,200,200',image)\n",
    "            image_string += '<figure style=\"float:left;\"><img src=\"{}\" alt=\"\" width=\"200\"/><figcaption ><center>{}</center></figcaption></figure></br>'.format(image,caption)\n",
    "        else:\n",
    "            image_string += '<figure style=\"float:left;\"><img src=\"\" alt=\"\" width=\"200\"/><figcaption ><center>{}</center></figcaption></figure></br>'.format(caption)\n",
    "        i = i+1\n",
    "    return image_string"
   ]
  },
  {
   "cell_type": "markdown",
   "metadata": {},
   "source": [
    "**Get actual items that user reviewed with rating > 3 and enrich with title and image URL**"
   ]
  },
  {
   "cell_type": "code",
   "execution_count": 121,
   "metadata": {},
   "outputs": [],
   "source": [
    "actual_item_list = list(ratings_df[(ratings_df[\"USER_ID\"] == user_id) & (ratings_df['EVENT_VALUE'] >= review_star_threshold)]['ITEM_ID'])\n",
    "actual_items = encrich_with_metadata(actual_item_list)"
   ]
  },
  {
   "cell_type": "code",
   "execution_count": 122,
   "metadata": {},
   "outputs": [
    {
     "data": {
      "text/html": [
       "<figure style=\"float:left;\"><img src=\"https://images-na.ssl-images-amazon.com/images/I/51juyAvHdRL._SR200,200_.jpg\" alt=\"\" width=\"200\"/><figcaption ><center>1---Name: Yacht &amp; Smith Mens Womens, Warm And Stretchy Winter Gloves---ASIN:B00MAMQ65O</center></figcaption></figure></br><figure style=\"float:left;\"><img src=\"https://images-na.ssl-images-amazon.com/images/I/31x3O4AbouL._SR200,200_.jpg\" alt=\"\" width=\"200\"/><figcaption ><center>2---Name: Poshsquare Women's Ruched High Waist Rayon Comfy Maxi Skirt White M---ASIN:B00XWYDH0G</center></figcaption></figure></br><figure style=\"float:left;\"><img src=\"https://images-na.ssl-images-amazon.com/images/I/41mnIie2y%2BL._SR200,200_.jpg\" alt=\"\" width=\"200\"/><figcaption ><center>3---Name: Meaneor Women's Long Sleeve Casual Boyfriend Pocket Button Cardigan M-XXL Black XXL---ASIN:B012CDFNEK</center></figcaption></figure></br><figure style=\"float:left;\"><img src=\"https://images-na.ssl-images-amazon.com/images/I/414Ioxx56eL._SR200,200_.jpg\" alt=\"\" width=\"200\"/><figcaption ><center>4---Name: 4 Pack Seamless Bandeau Tube Top Nylon Spandex Bras Multiple Colors---ASIN:B012DZ7I3Q</center></figcaption></figure></br><figure style=\"float:left;\"><img src=\"https://images-na.ssl-images-amazon.com/images/I/31V5R9QH8cL._SR200,200_.jpg\" alt=\"\" width=\"200\"/><figcaption ><center>5---Name: Women's Fashion Trendy Lace Tea Floral Flower Pleated Midi Chiffon Skirt USA Wht M---ASIN:B012HRFRRY</center></figcaption></figure></br><figure style=\"float:left;\"><img src=\"https://images-na.ssl-images-amazon.com/images/I/41PU-RTk0lL._SR200,200_.jpg\" alt=\"\" width=\"200\"/><figcaption ><center>6---Name: Poshsquare Women's Fashion Below The Knee Offic Pencil Skirt USA (Plus Sizes) CBLS L---ASIN:B013CZXV50</center></figcaption></figure></br><figure style=\"float:left;\"><img src=\"https://images-na.ssl-images-amazon.com/images/I/31UI0KHIWhL._US200_.jpg\" alt=\"\" width=\"200\"/><figcaption ><center>7---Name: DoctorInsole Men's FitStep Orthotic Insoles (Blue, 12)---ASIN:B014XCZ0W8</center></figcaption></figure></br><figure style=\"float:left;\"><img src=\"https://images-na.ssl-images-amazon.com/images/I/41Occic0iBL._SR200,200_.jpg\" alt=\"\" width=\"200\"/><figcaption ><center>8---Name: Idgirl Unisex-baby Winter Flannel Romper Panda Outfits Suit (80CM (0-3months), panda)---ASIN:B015IYAOBW</center></figcaption></figure></br><figure style=\"float:left;\"><img src=\"https://images-na.ssl-images-amazon.com/images/I/41Q36E%2BDIML._SR200,200_.jpg\" alt=\"\" width=\"200\"/><figcaption ><center>9---Name: 4 Pack Adjustable Convertible Premium Padded Bras (X-Large-4Pack, Bra-0605)---ASIN:B015Y72LTG</center></figcaption></figure></br><figure style=\"float:left;\"><img src=\"https://images-na.ssl-images-amazon.com/images/I/51tce1PEGML._US200_.jpg\" alt=\"\" width=\"200\"/><figcaption ><center>10---Name: VMATE Beige Drawstring Bucket Tote Bag Fringe Tassel Faux Suede Cross Body Shoulder Bag---ASIN:B016CTBA92</center></figcaption></figure></br><figure style=\"float:left;\"><img src=\"\" alt=\"\" width=\"200\"/><figcaption ><center>11---Name: Myobe Women's Crewneck Knitted A Line Sweater Dress (XL, White)---ASIN:B019FEXZTE</center></figcaption></figure></br><figure style=\"float:left;\"><img src=\"https://images-na.ssl-images-amazon.com/images/I/51LnRBODEpL._US200_.jpg\" alt=\"\" width=\"200\"/><figcaption ><center>12---Name: BUREI Men's Fashion Business Wrist Watches Stainless Steel Analog Quartz and Black Leather Strap---ASIN:B019RXNVXI</center></figcaption></figure></br><figure style=\"float:left;\"><img src=\"https://images-na.ssl-images-amazon.com/images/I/41YFyqwPg-L._SR200,200_.jpg\" alt=\"\" width=\"200\"/><figcaption ><center>13---Name: Amilia Strapless Sexy Lingerie Floral See Through Bodycon Sleepwear Mini Dress,Large,Purple---ASIN:B01CY86TYQ</center></figcaption></figure></br><figure style=\"float:left;\"><img src=\"https://images-na.ssl-images-amazon.com/images/I/51r0gznWriL._US200_.jpg\" alt=\"\" width=\"200\"/><figcaption ><center>14---Name: EleQueen 925 Sterling Silver Cubic Zirconia Square Bridal Pendant Necklace Stud Earrings Jewlery Set---ASIN:B01EUXC7P8</center></figcaption></figure></br><figure style=\"float:left;\"><img src=\"https://images-na.ssl-images-amazon.com/images/I/41N-GA5jGLL._SR200,200_.jpg\" alt=\"\" width=\"200\"/><figcaption ><center>15---Name: Unique Styles 3-Pack Classic Lace Bralettes Cage Crop Top Bandeau Bras, X-Large, Mint Creme, New Chambray, Peach Melba---ASIN:B01EXAVDD0</center></figcaption></figure></br><figure style=\"float:left;\"><img src=\"https://images-na.ssl-images-amazon.com/images/I/41MWBAnnVEL._US200_.jpg\" alt=\"\" width=\"200\"/><figcaption ><center>16---Name: DDDH Messenger Bag Leather Purses Women Handbags Tote Bag Crossbody Handbag(Claret-red)---ASIN:B01FVZ9F4K</center></figcaption></figure></br>"
      ],
      "text/plain": [
       "<IPython.core.display.HTML object>"
      ]
     },
     "execution_count": 122,
     "metadata": {},
     "output_type": "execute_result"
    }
   ],
   "source": [
    "from IPython.display import HTML\n",
    "HTML(data=display_items(actual_items))"
   ]
  },
  {
   "cell_type": "markdown",
   "metadata": {},
   "source": [
    "**Get recommendation for user personalize recipe and enrich recommended items with title and images**\n"
   ]
  },
  {
   "cell_type": "code",
   "execution_count": 118,
   "metadata": {},
   "outputs": [
    {
     "name": "stdout",
     "output_type": "stream",
     "text": [
      "[{'itemId': 'B018KRRC2I', 'score': 0.0005142}, {'itemId': 'B000PHANNM', 'score': 0.0004653}, {'itemId': 'B00KA3VEG6', 'score': 0.0004374}, {'itemId': 'B00LMU7GHM', 'score': 0.0004182}, {'itemId': 'B00UDF11O6', 'score': 0.0004182}, {'itemId': 'B00ZOXFI1E', 'score': 0.0004123}, {'itemId': 'B00KW4KR66', 'score': 0.0004052}, {'itemId': 'B00KW4LCCE', 'score': 0.0003955}, {'itemId': 'B00KA3R3M0', 'score': 0.0003891}, {'itemId': 'B00MIMOVB2', 'score': 0.0003742}]\n"
     ]
    }
   ],
   "source": [
    "get_recommendations_response_up = personalize_runtime.get_recommendations(\n",
    "    campaignArn = campaign_arn_up,\n",
    "    userId = str(user_id),\n",
    "    numResults=10,\n",
    "    filterArn=filter_response['filterArn']\n",
    ")\n",
    "\n",
    "recommended_item_list = list(map(lambda x: x['itemId'], get_recommendations_response_up['itemList']))\n",
    "print(get_recommendations_response_up['itemList'])\n",
    "\n",
    "    "
   ]
  },
  {
   "cell_type": "markdown",
   "metadata": {},
   "source": [
    "**Prepare for display**"
   ]
  },
  {
   "cell_type": "code",
   "execution_count": 113,
   "metadata": {},
   "outputs": [],
   "source": [
    "recommended_items = encrich_with_metadata(recommended_item_list)\n",
    "items_dictionary = {}\n",
    "for item in get_recommendations_response_up['itemList']:\n",
    "    items_dictionary[item['itemId']]=item['score']                                           \n",
    "for item in recommended_items:\n",
    "    item['score'] = items_dictionary[item['asin']]\n",
    "recommended_items.sort(key=lambda x: x['score'], reverse=True)"
   ]
  },
  {
   "cell_type": "markdown",
   "metadata": {},
   "source": [
    "**These are the actual items that user reviewed**"
   ]
  },
  {
   "cell_type": "code",
   "execution_count": 114,
   "metadata": {},
   "outputs": [
    {
     "data": {
      "text/html": [
       "<figure style=\"float:left;\"><img src=\"https://images-na.ssl-images-amazon.com/images/I/31KsghM%2BsEL._SR200,200_.jpg\" alt=\"\" width=\"200\"/><figcaption ><center>1---Score:0.0005142---Name: Lush Moda Seamless Full Length Leggings - Variety of Colors - CoralFusion---ASIN:B018KRRC2I</center></figcaption></figure></br><figure style=\"float:left;\"><img src=\"https://images-na.ssl-images-amazon.com/images/I/31UgoKWIU-L._SR200,200_.jpg\" alt=\"\" width=\"200\"/><figcaption ><center>2---Score:0.0004653---Name: i play. Baby Boys Flap Sun Protection Hat, Aqua Wavy Boats, 0/6mo---ASIN:B000PHANNM</center></figcaption></figure></br><figure style=\"float:left;\"><img src=\"https://images-na.ssl-images-amazon.com/images/I/41YsPT0HCjL._US200_.jpg\" alt=\"\" width=\"200\"/><figcaption ><center>3---Score:0.0004374---Name: Tribal Tibet Silver Grape Cluster Scale Pendant Bib Choker Collar Necklace---ASIN:B00KA3VEG6</center></figcaption></figure></br><figure style=\"float:left;\"><img src=\"https://images-na.ssl-images-amazon.com/images/I/61csypAQrBL._US200_.jpg\" alt=\"\" width=\"200\"/><figcaption ><center>4---Score:0.0004182---Name: QIYUN.Z Antique Silver Large Butterfly Pendant Hollow Out Leather Rope Necklace---ASIN:B00LMU7GHM</center></figcaption></figure></br><figure style=\"float:left;\"><img src=\"https://images-na.ssl-images-amazon.com/images/I/415J-fnj6XL._SS200_.jpg\" alt=\"\" width=\"200\"/><figcaption ><center>5---Score:0.0004182---Name: Fashion Brand 925 Sterling Silver Heart Love Chain Bracelet---ASIN:B00UDF11O6</center></figcaption></figure></br><figure style=\"float:left;\"><img src=\"https://images-na.ssl-images-amazon.com/images/I/61vEPm46iFL._SR200,200_.jpg\" alt=\"\" width=\"200\"/><figcaption ><center>6---Score:0.0004123---Name: Mixmax Women Flowy Sheer Crop Sleeves Loose Chiffon Kimono Cardigan Blouse Top---ASIN:B00ZOXFI1E</center></figcaption></figure></br><figure style=\"float:left;\"><img src=\"https://images-na.ssl-images-amazon.com/images/I/61VmU6BuSS200_US200_.jpg\" alt=\"\" width=\"200\"/><figcaption ><center>7---Score:0.0004052---Name: QIYUN.Z Geometric Oil Drop Silver Chain Tribal Lucky Totem Bib Necklace Earrings Set---ASIN:B00KW4KR66</center></figcaption></figure></br><figure style=\"float:left;\"><img src=\"https://images-na.ssl-images-amazon.com/images/I/515VlRsfbIL._US200_.jpg\" alt=\"\" width=\"200\"/><figcaption ><center>8---Score:0.0003955---Name: Colorful Peacock Bird Wing Y Bib Collar Necklace---ASIN:B00KW4LCCE</center></figcaption></figure></br><figure style=\"float:left;\"><img src=\"https://images-na.ssl-images-amazon.com/images/I/41dUmHKnTBL._US200_.jpg\" alt=\"\" width=\"200\"/><figcaption ><center>9---Score:0.0003891---Name: Fashion Green Enamel Bib Link Plaque Dangle Stick Necklace Stud Earrings Set---ASIN:B00KA3R3M0</center></figcaption></figure></br><figure style=\"float:left;\"><img src=\"https://images-na.ssl-images-amazon.com/images/I/51kKyel3HwL._US200_.jpg\" alt=\"\" width=\"200\"/><figcaption ><center>10---Score:0.0003742---Name: QIYUN.Z Women Girl Lady Girl Turquoise Oval Shape Charming Necklace Earrings Chain Set---ASIN:B00MIMOVB2</center></figcaption></figure></br>"
      ],
      "text/plain": [
       "<IPython.core.display.HTML object>"
      ]
     },
     "execution_count": 114,
     "metadata": {},
     "output_type": "execute_result"
    }
   ],
   "source": [
    "from IPython.display import HTML\n",
    "HTML(data=display_items(recommended_items))"
   ]
  },
  {
   "cell_type": "markdown",
   "metadata": {},
   "source": [
    "**Get recommendation for user personalize recipe and enrich recommended items with title and images**\n"
   ]
  },
  {
   "cell_type": "code",
   "execution_count": 115,
   "metadata": {},
   "outputs": [
    {
     "name": "stdout",
     "output_type": "stream",
     "text": [
      "[{'itemId': 'B00FHN9SOO', 'score': 0.0003922}, {'itemId': 'B014WC3ES6', 'score': 0.0002987}, {'itemId': 'B00L4EUE0M', 'score': 0.0002829}, {'itemId': 'B017IK7LHY', 'score': 0.0002746}, {'itemId': 'B012SZYFLO', 'score': 0.0002451}, {'itemId': 'B0018N457C', 'score': 0.0002399}, {'itemId': 'B012SZZLBM', 'score': 0.0002288}, {'itemId': 'B012B7AH2A', 'score': 0.0002236}, {'itemId': 'B00KA3WMJY', 'score': 0.0002146}, {'itemId': 'B01B2AOT3K', 'score': 0.0002145}]\n"
     ]
    }
   ],
   "source": [
    "get_recommendations_response_hrnn = personalize_runtime.get_recommendations(\n",
    "    campaignArn = campaign_arn_hrnn,\n",
    "    userId = str(user_id),\n",
    "    numResults=10,\n",
    "    filterArn=filter_response['filterArn']\n",
    ")\n",
    "\n",
    "recommended_item_list = list(map(lambda x: x['itemId'], get_recommendations_response_hrnn['itemList']))\n",
    "print(get_recommendations_response_hrnn['itemList'])\n",
    "\n",
    "    "
   ]
  },
  {
   "cell_type": "markdown",
   "metadata": {},
   "source": [
    "**Prepare for display**"
   ]
  },
  {
   "cell_type": "code",
   "execution_count": 116,
   "metadata": {},
   "outputs": [],
   "source": [
    "recommended_items = encrich_with_metadata(recommended_item_list)\n",
    "items_dictionary = {}\n",
    "for item in get_recommendations_response_hrnn['itemList']:\n",
    "    items_dictionary[item['itemId']]=item['score']                                           \n",
    "for item in recommended_items:\n",
    "    item['score'] = items_dictionary[item['asin']]\n",
    "recommended_items.sort(key=lambda x: x['score'], reverse=True)"
   ]
  },
  {
   "cell_type": "markdown",
   "metadata": {},
   "source": [
    "**These are the actual items that user reviewed**"
   ]
  },
  {
   "cell_type": "code",
   "execution_count": 117,
   "metadata": {},
   "outputs": [
    {
     "data": {
      "text/html": [
       "<figure style=\"float:left;\"><img src=\"https://images-na.ssl-images-amazon.com/images/I/41HMh9pY04L._SR200,200_.jpg\" alt=\"\" width=\"200\"/><figcaption ><center>1---Score:0.0003922---Name: Allegra K Woman Mesh Panel Front Mock Neck Bracelet Sleeves Top L Black---ASIN:B00FHN9SOO</center></figcaption></figure></br><figure style=\"float:left;\"><img src=\"https://images-na.ssl-images-amazon.com/images/I/41X5FIp3HSL._US200_.jpg\" alt=\"\" width=\"200\"/><figcaption ><center>2---Score:0.0002987---Name: Platinum or Gold Plated Sterling Silver Round-Cut 5-Stone Ring made with Swarovski Zirconia---ASIN:B014WC3ES6</center></figcaption></figure></br><figure style=\"float:left;\"><img src=\"\" alt=\"\" width=\"200\"/><figcaption ><center>3---Score:0.0002829---Name: NRG Women's Junior 3 Pocket Contrast Squared V-Neck with Fitted Back and Contrast (Titanium / Ultra Violet, M)---ASIN:B00L4EUE0M</center></figcaption></figure></br><figure style=\"float:left;\"><img src=\"https://images-na.ssl-images-amazon.com/images/I/51wokxp-k8L._SX200_SX200_CR,0,0,200,200_.jpg\" alt=\"\" width=\"200\"/><figcaption ><center>4---Score:0.0002746---Name: GUOER Women's and Men's Scrub Cap Scrub Hat One Size Multiple Color---ASIN:B017IK7LHY</center></figcaption></figure></br><figure style=\"float:left;\"><img src=\"https://images-na.ssl-images-amazon.com/images/I/41nUqukRINL._US200_.jpg\" alt=\"\" width=\"200\"/><figcaption ><center>5---Score:0.0002451---Name: Platinum or Gold Plated Sterling Silver Asscher-Cut Halo Ring Set with Swarovski Zirconia---ASIN:B012SZYFLO</center></figcaption></figure></br><figure style=\"float:left;\"><img src=\"https://images-na.ssl-images-amazon.com/images/I/31TBr6sf%2BcL._US200_.jpg\" alt=\"\" width=\"200\"/><figcaption ><center>6---Score:0.0002399---Name: Funtasma by Pleaser Women's Halloween Brook-208---ASIN:B0018N457C</center></figcaption></figure></br><figure style=\"float:left;\"><img src=\"https://images-na.ssl-images-amazon.com/images/I/41ljdWnUrML._US200_.jpg\" alt=\"\" width=\"200\"/><figcaption ><center>7---Score:0.0002288---Name: Platinum or Gold Plated Sterling Silver Round-Cut 5-Stone Ring made with Swarovski Zirconia---ASIN:B012SZZLBM</center></figcaption></figure></br><figure style=\"float:left;\"><img src=\"\" alt=\"\" width=\"200\"/><figcaption ><center>8---Score:0.0002236---Name: Woolrich Men's Ruxton Wool Vest, Slate (Blue), Size S---ASIN:B012B7AH2A</center></figcaption></figure></br><figure style=\"float:left;\"><img src=\"https://images-na.ssl-images-amazon.com/images/I/51IDcKTIl4L._US200_.jpg\" alt=\"\" width=\"200\"/><figcaption ><center>9---Score:0.0002146---Name: Qiyun (TM) Angel's Wing Green Fringe Dangle Crystal Beaded Charm Choker Necklace---ASIN:B00KA3WMJY</center></figcaption></figure></br><figure style=\"float:left;\"><img src=\"https://images-na.ssl-images-amazon.com/images/I/51AaQmUlX2L._SR200,200_.jpg\" alt=\"\" width=\"200\"/><figcaption ><center>10---Score:0.0002145---Name: Fiream Boys' Cotton Crewneck Long Sleeve Cartoon T-shirt---ASIN:B01B2AOT3K</center></figcaption></figure></br>"
      ],
      "text/plain": [
       "<IPython.core.display.HTML object>"
      ]
     },
     "execution_count": 117,
     "metadata": {},
     "output_type": "execute_result"
    }
   ],
   "source": [
    "from IPython.display import HTML\n",
    "HTML(data=display_items(recommended_items))"
   ]
  }
 ],
 "metadata": {
  "kernelspec": {
   "display_name": "conda_python3",
   "language": "python",
   "name": "conda_python3"
  },
  "language_info": {
   "codemirror_mode": {
    "name": "ipython",
    "version": 3
   },
   "file_extension": ".py",
   "mimetype": "text/x-python",
   "name": "python",
   "nbconvert_exporter": "python",
   "pygments_lexer": "ipython3",
   "version": "3.6.10"
  }
 },
 "nbformat": 4,
 "nbformat_minor": 2
}
